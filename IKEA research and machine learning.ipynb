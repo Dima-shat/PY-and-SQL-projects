{
 "cells": [
  {
   "cell_type": "markdown",
   "id": "89c8c161",
   "metadata": {},
   "source": [
    "# STEP PROJECT PYTHON (Shatiernikov Dmytro)"
   ]
  },
  {
   "cell_type": "markdown",
   "id": "f036093f",
   "metadata": {},
   "source": [
    "## Task 1. База даних IKEA"
   ]
  },
  {
   "cell_type": "code",
   "execution_count": 180,
   "id": "5760e6e1",
   "metadata": {},
   "outputs": [],
   "source": [
    "import pandas as pd\n",
    "import numpy as np\n",
    "import matplotlib \n",
    "import matplotlib.pyplot as plt\n",
    "from scipy import stats"
   ]
  },
  {
   "cell_type": "code",
   "execution_count": 181,
   "id": "15c22bd5",
   "metadata": {},
   "outputs": [],
   "source": [
    "res = pd.read_csv('ikea.csv')"
   ]
  },
  {
   "cell_type": "code",
   "execution_count": 246,
   "id": "588b2993",
   "metadata": {},
   "outputs": [
    {
     "data": {
      "text/html": [
       "<div>\n",
       "<style scoped>\n",
       "    .dataframe tbody tr th:only-of-type {\n",
       "        vertical-align: middle;\n",
       "    }\n",
       "\n",
       "    .dataframe tbody tr th {\n",
       "        vertical-align: top;\n",
       "    }\n",
       "\n",
       "    .dataframe thead th {\n",
       "        text-align: right;\n",
       "    }\n",
       "</style>\n",
       "<table border=\"1\" class=\"dataframe\">\n",
       "  <thead>\n",
       "    <tr style=\"text-align: right;\">\n",
       "      <th></th>\n",
       "      <th>Unnamed: 0</th>\n",
       "      <th>item_id</th>\n",
       "      <th>name</th>\n",
       "      <th>category</th>\n",
       "      <th>price</th>\n",
       "      <th>old_price</th>\n",
       "      <th>sellable_online</th>\n",
       "      <th>link</th>\n",
       "      <th>other_colors</th>\n",
       "      <th>short_description</th>\n",
       "      <th>designer</th>\n",
       "      <th>depth</th>\n",
       "      <th>height</th>\n",
       "      <th>width</th>\n",
       "    </tr>\n",
       "  </thead>\n",
       "  <tbody>\n",
       "    <tr>\n",
       "      <th>0</th>\n",
       "      <td>0</td>\n",
       "      <td>90420332</td>\n",
       "      <td>FREKVENS</td>\n",
       "      <td>Bar furniture</td>\n",
       "      <td>265.0</td>\n",
       "      <td>No old price</td>\n",
       "      <td>True</td>\n",
       "      <td>https://www.ikea.com/sa/en/p/frekvens-bar-tabl...</td>\n",
       "      <td>No</td>\n",
       "      <td>Bar table, in/outdoor,          51x51 cm</td>\n",
       "      <td>Nicholai Wiig Hansen</td>\n",
       "      <td>54.4</td>\n",
       "      <td>99.0</td>\n",
       "      <td>51.0</td>\n",
       "    </tr>\n",
       "    <tr>\n",
       "      <th>1</th>\n",
       "      <td>1</td>\n",
       "      <td>368814</td>\n",
       "      <td>NORDVIKEN</td>\n",
       "      <td>Bar furniture</td>\n",
       "      <td>995.0</td>\n",
       "      <td>No old price</td>\n",
       "      <td>False</td>\n",
       "      <td>https://www.ikea.com/sa/en/p/nordviken-bar-tab...</td>\n",
       "      <td>No</td>\n",
       "      <td>Bar table,          140x80 cm</td>\n",
       "      <td>Francis Cayouette</td>\n",
       "      <td>54.4</td>\n",
       "      <td>105.0</td>\n",
       "      <td>80.0</td>\n",
       "    </tr>\n",
       "    <tr>\n",
       "      <th>2</th>\n",
       "      <td>2</td>\n",
       "      <td>9333523</td>\n",
       "      <td>NORDVIKEN / NORDVIKEN</td>\n",
       "      <td>Bar furniture</td>\n",
       "      <td>2095.0</td>\n",
       "      <td>No old price</td>\n",
       "      <td>False</td>\n",
       "      <td>https://www.ikea.com/sa/en/p/nordviken-nordvik...</td>\n",
       "      <td>No</td>\n",
       "      <td>Bar table and 4 bar stools</td>\n",
       "      <td>Francis Cayouette</td>\n",
       "      <td>54.4</td>\n",
       "      <td>101.7</td>\n",
       "      <td>104.5</td>\n",
       "    </tr>\n",
       "    <tr>\n",
       "      <th>3</th>\n",
       "      <td>3</td>\n",
       "      <td>80155205</td>\n",
       "      <td>STIG</td>\n",
       "      <td>Bar furniture</td>\n",
       "      <td>69.0</td>\n",
       "      <td>No old price</td>\n",
       "      <td>True</td>\n",
       "      <td>https://www.ikea.com/sa/en/p/stig-bar-stool-wi...</td>\n",
       "      <td>Yes</td>\n",
       "      <td>Bar stool with backrest,          74 cm</td>\n",
       "      <td>Henrik Preutz</td>\n",
       "      <td>50.0</td>\n",
       "      <td>100.0</td>\n",
       "      <td>60.0</td>\n",
       "    </tr>\n",
       "    <tr>\n",
       "      <th>4</th>\n",
       "      <td>4</td>\n",
       "      <td>30180504</td>\n",
       "      <td>NORBERG</td>\n",
       "      <td>Bar furniture</td>\n",
       "      <td>225.0</td>\n",
       "      <td>No old price</td>\n",
       "      <td>True</td>\n",
       "      <td>https://www.ikea.com/sa/en/p/norberg-wall-moun...</td>\n",
       "      <td>No</td>\n",
       "      <td>Wall-mounted drop-leaf table,         ...</td>\n",
       "      <td>Marcus Arvonen</td>\n",
       "      <td>60.0</td>\n",
       "      <td>43.0</td>\n",
       "      <td>74.0</td>\n",
       "    </tr>\n",
       "    <tr>\n",
       "      <th>5</th>\n",
       "      <td>5</td>\n",
       "      <td>10122647</td>\n",
       "      <td>INGOLF</td>\n",
       "      <td>Bar furniture</td>\n",
       "      <td>345.0</td>\n",
       "      <td>No old price</td>\n",
       "      <td>True</td>\n",
       "      <td>https://www.ikea.com/sa/en/p/ingolf-bar-stool-...</td>\n",
       "      <td>No</td>\n",
       "      <td>Bar stool with backrest,          63 cm</td>\n",
       "      <td>Carina Bengs</td>\n",
       "      <td>45.0</td>\n",
       "      <td>91.0</td>\n",
       "      <td>40.0</td>\n",
       "    </tr>\n",
       "    <tr>\n",
       "      <th>6</th>\n",
       "      <td>6</td>\n",
       "      <td>70404875</td>\n",
       "      <td>FRANKLIN</td>\n",
       "      <td>Bar furniture</td>\n",
       "      <td>129.0</td>\n",
       "      <td>No old price</td>\n",
       "      <td>True</td>\n",
       "      <td>https://www.ikea.com/sa/en/p/franklin-bar-stoo...</td>\n",
       "      <td>No</td>\n",
       "      <td>Bar stool with backrest, foldable,    ...</td>\n",
       "      <td>K Hagberg/M Hagberg</td>\n",
       "      <td>44.0</td>\n",
       "      <td>95.0</td>\n",
       "      <td>50.0</td>\n",
       "    </tr>\n",
       "    <tr>\n",
       "      <th>7</th>\n",
       "      <td>7</td>\n",
       "      <td>60155602</td>\n",
       "      <td>DALFRED</td>\n",
       "      <td>Bar furniture</td>\n",
       "      <td>195.0</td>\n",
       "      <td>No old price</td>\n",
       "      <td>True</td>\n",
       "      <td>https://www.ikea.com/sa/en/p/dalfred-bar-stool...</td>\n",
       "      <td>No</td>\n",
       "      <td>Bar stool,          63-74 cm</td>\n",
       "      <td>Sarah Fager</td>\n",
       "      <td>50.0</td>\n",
       "      <td>101.7</td>\n",
       "      <td>50.0</td>\n",
       "    </tr>\n",
       "    <tr>\n",
       "      <th>8</th>\n",
       "      <td>8</td>\n",
       "      <td>50406465</td>\n",
       "      <td>FRANKLIN</td>\n",
       "      <td>Bar furniture</td>\n",
       "      <td>129.0</td>\n",
       "      <td>No old price</td>\n",
       "      <td>True</td>\n",
       "      <td>https://www.ikea.com/sa/en/p/franklin-bar-stoo...</td>\n",
       "      <td>No</td>\n",
       "      <td>Bar stool with backrest, foldable,    ...</td>\n",
       "      <td>K Hagberg/M Hagberg</td>\n",
       "      <td>44.0</td>\n",
       "      <td>95.0</td>\n",
       "      <td>50.0</td>\n",
       "    </tr>\n",
       "    <tr>\n",
       "      <th>9</th>\n",
       "      <td>9</td>\n",
       "      <td>69304221</td>\n",
       "      <td>EKEDALEN / EKEDALEN</td>\n",
       "      <td>Bar furniture</td>\n",
       "      <td>2176.0</td>\n",
       "      <td>SR 2,375</td>\n",
       "      <td>True</td>\n",
       "      <td>https://www.ikea.com/sa/en/p/ekedalen-ekedalen...</td>\n",
       "      <td>No</td>\n",
       "      <td>Bar table and 4 bar stools</td>\n",
       "      <td>Ehlén Johansson</td>\n",
       "      <td>54.4</td>\n",
       "      <td>101.7</td>\n",
       "      <td>104.5</td>\n",
       "    </tr>\n",
       "  </tbody>\n",
       "</table>\n",
       "</div>"
      ],
      "text/plain": [
       "   Unnamed: 0   item_id                   name       category   price  \\\n",
       "0           0  90420332               FREKVENS  Bar furniture   265.0   \n",
       "1           1    368814              NORDVIKEN  Bar furniture   995.0   \n",
       "2           2   9333523  NORDVIKEN / NORDVIKEN  Bar furniture  2095.0   \n",
       "3           3  80155205                   STIG  Bar furniture    69.0   \n",
       "4           4  30180504                NORBERG  Bar furniture   225.0   \n",
       "5           5  10122647                 INGOLF  Bar furniture   345.0   \n",
       "6           6  70404875               FRANKLIN  Bar furniture   129.0   \n",
       "7           7  60155602                DALFRED  Bar furniture   195.0   \n",
       "8           8  50406465               FRANKLIN  Bar furniture   129.0   \n",
       "9           9  69304221    EKEDALEN / EKEDALEN  Bar furniture  2176.0   \n",
       "\n",
       "      old_price  sellable_online  \\\n",
       "0  No old price             True   \n",
       "1  No old price            False   \n",
       "2  No old price            False   \n",
       "3  No old price             True   \n",
       "4  No old price             True   \n",
       "5  No old price             True   \n",
       "6  No old price             True   \n",
       "7  No old price             True   \n",
       "8  No old price             True   \n",
       "9      SR 2,375             True   \n",
       "\n",
       "                                                link other_colors  \\\n",
       "0  https://www.ikea.com/sa/en/p/frekvens-bar-tabl...           No   \n",
       "1  https://www.ikea.com/sa/en/p/nordviken-bar-tab...           No   \n",
       "2  https://www.ikea.com/sa/en/p/nordviken-nordvik...           No   \n",
       "3  https://www.ikea.com/sa/en/p/stig-bar-stool-wi...          Yes   \n",
       "4  https://www.ikea.com/sa/en/p/norberg-wall-moun...           No   \n",
       "5  https://www.ikea.com/sa/en/p/ingolf-bar-stool-...           No   \n",
       "6  https://www.ikea.com/sa/en/p/franklin-bar-stoo...           No   \n",
       "7  https://www.ikea.com/sa/en/p/dalfred-bar-stool...           No   \n",
       "8  https://www.ikea.com/sa/en/p/franklin-bar-stoo...           No   \n",
       "9  https://www.ikea.com/sa/en/p/ekedalen-ekedalen...           No   \n",
       "\n",
       "                                   short_description              designer  \\\n",
       "0           Bar table, in/outdoor,          51x51 cm  Nicholai Wiig Hansen   \n",
       "1                      Bar table,          140x80 cm     Francis Cayouette   \n",
       "2                         Bar table and 4 bar stools     Francis Cayouette   \n",
       "3            Bar stool with backrest,          74 cm         Henrik Preutz   \n",
       "4          Wall-mounted drop-leaf table,         ...        Marcus Arvonen   \n",
       "5            Bar stool with backrest,          63 cm          Carina Bengs   \n",
       "6          Bar stool with backrest, foldable,    ...   K Hagberg/M Hagberg   \n",
       "7                       Bar stool,          63-74 cm           Sarah Fager   \n",
       "8          Bar stool with backrest, foldable,    ...   K Hagberg/M Hagberg   \n",
       "9                         Bar table and 4 bar stools       Ehlén Johansson   \n",
       "\n",
       "   depth  height  width  \n",
       "0   54.4    99.0   51.0  \n",
       "1   54.4   105.0   80.0  \n",
       "2   54.4   101.7  104.5  \n",
       "3   50.0   100.0   60.0  \n",
       "4   60.0    43.0   74.0  \n",
       "5   45.0    91.0   40.0  \n",
       "6   44.0    95.0   50.0  \n",
       "7   50.0   101.7   50.0  \n",
       "8   44.0    95.0   50.0  \n",
       "9   54.4   101.7  104.5  "
      ]
     },
     "execution_count": 246,
     "metadata": {},
     "output_type": "execute_result"
    }
   ],
   "source": [
    "res.head(10)"
   ]
  },
  {
   "cell_type": "code",
   "execution_count": 183,
   "id": "2760b518",
   "metadata": {},
   "outputs": [],
   "source": [
    "writer = pd.ExcelWriter('ikea.xlsx')\n",
    "res.to_excel(writer)\n",
    "writer.save()"
   ]
  },
  {
   "cell_type": "markdown",
   "id": "39633e8a",
   "metadata": {},
   "source": [
    "# Task 2. Дослідницький аналіз"
   ]
  },
  {
   "cell_type": "markdown",
   "id": "78629635",
   "metadata": {},
   "source": [
    "### Подивимося загальну інформацію про завантажений DataFrame. Як бачимо, порожні значення є лише у 3-х колонках: depth, height, width.                           "
   ]
  },
  {
   "cell_type": "code",
   "execution_count": 9,
   "id": "54a4709d",
   "metadata": {},
   "outputs": [
    {
     "name": "stdout",
     "output_type": "stream",
     "text": [
      "<class 'pandas.core.frame.DataFrame'>\n",
      "RangeIndex: 3694 entries, 0 to 3693\n",
      "Data columns (total 14 columns):\n",
      " #   Column             Non-Null Count  Dtype  \n",
      "---  ------             --------------  -----  \n",
      " 0   Unnamed: 0         3694 non-null   int64  \n",
      " 1   item_id            3694 non-null   int64  \n",
      " 2   name               3694 non-null   object \n",
      " 3   category           3694 non-null   object \n",
      " 4   price              3694 non-null   float64\n",
      " 5   old_price          3694 non-null   object \n",
      " 6   sellable_online    3694 non-null   bool   \n",
      " 7   link               3694 non-null   object \n",
      " 8   other_colors       3694 non-null   object \n",
      " 9   short_description  3694 non-null   object \n",
      " 10  designer           3694 non-null   object \n",
      " 11  depth              2231 non-null   float64\n",
      " 12  height             2706 non-null   float64\n",
      " 13  width              3105 non-null   float64\n",
      "dtypes: bool(1), float64(4), int64(2), object(7)\n",
      "memory usage: 378.9+ KB\n"
     ]
    }
   ],
   "source": [
    "res.info()"
   ]
  },
  {
   "cell_type": "markdown",
   "id": "9ff037a4",
   "metadata": {},
   "source": [
    "### Заповнюємо порожні значення, чистимо дані у таблиці"
   ]
  },
  {
   "cell_type": "markdown",
   "id": "f1ddce69",
   "metadata": {},
   "source": [
    "#### Заповнюємо порожні значення середніми по колонці"
   ]
  },
  {
   "cell_type": "code",
   "execution_count": 184,
   "id": "4f24ff59",
   "metadata": {},
   "outputs": [],
   "source": [
    "res['depth'].fillna(np.mean(res['depth']), inplace = True)\n",
    "res['height'].fillna(np.mean(res['height']), inplace = True)\n",
    "res['width'].fillna(np.mean(res['width']), inplace = True)"
   ]
  },
  {
   "cell_type": "markdown",
   "id": "86790b88",
   "metadata": {},
   "source": [
    "#### Округляємо значення"
   ]
  },
  {
   "cell_type": "code",
   "execution_count": 185,
   "id": "e587c72b",
   "metadata": {},
   "outputs": [],
   "source": [
    "res['depth'] = res['depth'].round(1)\n",
    "res['height'] = res['height'].round(1)\n",
    "res['width'] = res['width'].round(1)"
   ]
  },
  {
   "cell_type": "markdown",
   "id": "6223cf4a",
   "metadata": {},
   "source": [
    "#### замінюємо назви дизайнерів які мають \"неправильну\" назву (більше 10 слов у назві)"
   ]
  },
  {
   "cell_type": "code",
   "execution_count": 186,
   "id": "7a667ad6",
   "metadata": {},
   "outputs": [],
   "source": [
    "res.loc[(res['designer'].str.split().str.len() > 10), 'designer'] = 'Unknown designer'"
   ]
  },
  {
   "cell_type": "markdown",
   "id": "7f5dde43",
   "metadata": {},
   "source": [
    "#### Подивимось детальну інформацію по 4-х стовбчиках:"
   ]
  },
  {
   "cell_type": "code",
   "execution_count": 13,
   "id": "813692c4",
   "metadata": {},
   "outputs": [
    {
     "data": {
      "text/html": [
       "<div>\n",
       "<style scoped>\n",
       "    .dataframe tbody tr th:only-of-type {\n",
       "        vertical-align: middle;\n",
       "    }\n",
       "\n",
       "    .dataframe tbody tr th {\n",
       "        vertical-align: top;\n",
       "    }\n",
       "\n",
       "    .dataframe thead th {\n",
       "        text-align: right;\n",
       "    }\n",
       "</style>\n",
       "<table border=\"1\" class=\"dataframe\">\n",
       "  <thead>\n",
       "    <tr style=\"text-align: right;\">\n",
       "      <th></th>\n",
       "      <th>price</th>\n",
       "      <th>depth</th>\n",
       "      <th>height</th>\n",
       "      <th>width</th>\n",
       "    </tr>\n",
       "  </thead>\n",
       "  <tbody>\n",
       "    <tr>\n",
       "      <th>count</th>\n",
       "      <td>3694.000000</td>\n",
       "      <td>3694.000000</td>\n",
       "      <td>3694.000000</td>\n",
       "      <td>3694.000000</td>\n",
       "    </tr>\n",
       "    <tr>\n",
       "      <th>mean</th>\n",
       "      <td>1078.208419</td>\n",
       "      <td>54.387439</td>\n",
       "      <td>101.685328</td>\n",
       "      <td>104.475501</td>\n",
       "    </tr>\n",
       "    <tr>\n",
       "      <th>std</th>\n",
       "      <td>1374.652494</td>\n",
       "      <td>23.279879</td>\n",
       "      <td>52.289927</td>\n",
       "      <td>65.214931</td>\n",
       "    </tr>\n",
       "    <tr>\n",
       "      <th>min</th>\n",
       "      <td>3.000000</td>\n",
       "      <td>1.000000</td>\n",
       "      <td>1.000000</td>\n",
       "      <td>1.000000</td>\n",
       "    </tr>\n",
       "    <tr>\n",
       "      <th>25%</th>\n",
       "      <td>180.900000</td>\n",
       "      <td>42.000000</td>\n",
       "      <td>74.000000</td>\n",
       "      <td>60.000000</td>\n",
       "    </tr>\n",
       "    <tr>\n",
       "      <th>50%</th>\n",
       "      <td>544.700000</td>\n",
       "      <td>54.400000</td>\n",
       "      <td>101.700000</td>\n",
       "      <td>90.000000</td>\n",
       "    </tr>\n",
       "    <tr>\n",
       "      <th>75%</th>\n",
       "      <td>1429.500000</td>\n",
       "      <td>54.400000</td>\n",
       "      <td>101.700000</td>\n",
       "      <td>120.000000</td>\n",
       "    </tr>\n",
       "    <tr>\n",
       "      <th>max</th>\n",
       "      <td>9585.000000</td>\n",
       "      <td>257.000000</td>\n",
       "      <td>700.000000</td>\n",
       "      <td>420.000000</td>\n",
       "    </tr>\n",
       "  </tbody>\n",
       "</table>\n",
       "</div>"
      ],
      "text/plain": [
       "             price        depth       height        width\n",
       "count  3694.000000  3694.000000  3694.000000  3694.000000\n",
       "mean   1078.208419    54.387439   101.685328   104.475501\n",
       "std    1374.652494    23.279879    52.289927    65.214931\n",
       "min       3.000000     1.000000     1.000000     1.000000\n",
       "25%     180.900000    42.000000    74.000000    60.000000\n",
       "50%     544.700000    54.400000   101.700000    90.000000\n",
       "75%    1429.500000    54.400000   101.700000   120.000000\n",
       "max    9585.000000   257.000000   700.000000   420.000000"
      ]
     },
     "execution_count": 13,
     "metadata": {},
     "output_type": "execute_result"
    }
   ],
   "source": [
    "res[['price', 'depth', 'height','width']].describe()"
   ]
  },
  {
   "cell_type": "markdown",
   "id": "ac6feec4",
   "metadata": {},
   "source": [
    "### Побудуємо гістаграму"
   ]
  },
  {
   "cell_type": "code",
   "execution_count": 16,
   "id": "96950abc",
   "metadata": {},
   "outputs": [
    {
     "data": {
      "text/plain": [
       "<AxesSubplot:>"
      ]
     },
     "execution_count": 16,
     "metadata": {},
     "output_type": "execute_result"
    },
    {
     "data": {
      "image/png": "[encoded data removed]",
      "text/plain": [
       "<Figure size 432x288 with 1 Axes>"
      ]
     },
     "metadata": {
      "needs_background": "light"
     },
     "output_type": "display_data"
    }
   ],
   "source": [
    "res['price'].hist(bins=60)"
   ]
  },
  {
   "cell_type": "code",
   "execution_count": 17,
   "id": "546e4b1d",
   "metadata": {},
   "outputs": [
    {
     "data": {
      "text/plain": [
       "<AxesSubplot:>"
      ]
     },
     "execution_count": 17,
     "metadata": {},
     "output_type": "execute_result"
    },
    {
     "data": {
      "image/png": "[encoded data removed]",
      "text/plain": [
       "<Figure size 432x288 with 1 Axes>"
      ]
     },
     "metadata": {
      "needs_background": "light"
     },
     "output_type": "display_data"
    }
   ],
   "source": [
    "np.log(res['price']).hist(bins=60)"
   ]
  },
  {
   "cell_type": "markdown",
   "id": "ef56f0f9",
   "metadata": {},
   "source": [
    "### Подивимося, чи залежить ціна від дизайнера"
   ]
  },
  {
   "cell_type": "code",
   "execution_count": 13,
   "id": "8fb16109",
   "metadata": {},
   "outputs": [],
   "source": [
    "cnt1 = res.groupby(['designer'])['price'].mean()"
   ]
  },
  {
   "cell_type": "code",
   "execution_count": 14,
   "id": "429f559a",
   "metadata": {},
   "outputs": [
    {
     "data": {
      "text/plain": [
       "designer\n",
       "Ola Wihlborg/IKEA of Sweden/Synnöve Mork            8551.000000\n",
       "Ola Wihlborg/Synnöve Mork/IKEA of Sweden            8356.000000\n",
       "Ehlén Johansson/Fredriksson/L Löwenhielm/Hilland    7988.000000\n",
       "Henrik Preutz/IKEA of Sweden                        7149.500000\n",
       "S Lanneskog/J Marnell/Ola Wihlborg                  6965.000000\n",
       "                                                       ...     \n",
       "S Edholm/L Ullenius                                   37.285714\n",
       "H Preutz/A Fredriksson                                35.900000\n",
       "Charlie Styrbjörn                                     35.000000\n",
       "Annie Huldén                                          27.500000\n",
       "Lisel Garsveden                                       16.200000\n",
       "Name: price, Length: 283, dtype: float64"
      ]
     },
     "execution_count": 14,
     "metadata": {},
     "output_type": "execute_result"
    }
   ],
   "source": [
    "cnt1.sort_values(ascending=False)"
   ]
  },
  {
   "cell_type": "markdown",
   "id": "1ef50f09",
   "metadata": {},
   "source": [
    "### Подивимося, чи є залежність ціни виробу від його розмірів:"
   ]
  },
  {
   "cell_type": "code",
   "execution_count": 19,
   "id": "83518455",
   "metadata": {},
   "outputs": [],
   "source": [
    "res['volume'] = res['depth']*res['height']*res['width'] #порахуємо умовний об'єм вироба"
   ]
  },
  {
   "cell_type": "markdown",
   "id": "aa1c0cbf",
   "metadata": {},
   "source": [
    "#### Побудуємо scatter графік залежності розмірів вироба та його ціни:"
   ]
  },
  {
   "cell_type": "code",
   "execution_count": 20,
   "id": "a65c7682",
   "metadata": {},
   "outputs": [],
   "source": [
    "x = np.array(res['price'])\n",
    "y = np.array(res['volume'])"
   ]
  },
  {
   "cell_type": "code",
   "execution_count": 21,
   "id": "24aa229e",
   "metadata": {},
   "outputs": [
    {
     "data": {
      "text/plain": [
       "(0.0, 1500.0)"
      ]
     },
     "execution_count": 21,
     "metadata": {},
     "output_type": "execute_result"
    },
    {
     "data": {
      "image/png": "[encoded data removed]",
      "text/plain": [
       "<Figure size 1800x720 with 1 Axes>"
      ]
     },
     "metadata": {
      "needs_background": "light"
     },
     "output_type": "display_data"
    }
   ],
   "source": [
    "f, ax = plt.subplots(figsize=(25, 10))\n",
    "ax.scatter(x,y, s=10, c='g')\n",
    "ax.set_xlim([0, 1500])\n",
    "#ax.set_ylim([0.00, 0.40])"
   ]
  },
  {
   "cell_type": "markdown",
   "id": "c73e23fb",
   "metadata": {},
   "source": [
    "### Порахуємо коефіцієнт кореляції цих 2-х параметрів:"
   ]
  },
  {
   "cell_type": "code",
   "execution_count": 22,
   "id": "afc08922",
   "metadata": {},
   "outputs": [],
   "source": [
    "cor = res[['price', 'volume']]"
   ]
  },
  {
   "cell_type": "code",
   "execution_count": 23,
   "id": "f65da2ca",
   "metadata": {},
   "outputs": [
    {
     "data": {
      "text/html": [
       "<div>\n",
       "<style scoped>\n",
       "    .dataframe tbody tr th:only-of-type {\n",
       "        vertical-align: middle;\n",
       "    }\n",
       "\n",
       "    .dataframe tbody tr th {\n",
       "        vertical-align: top;\n",
       "    }\n",
       "\n",
       "    .dataframe thead th {\n",
       "        text-align: right;\n",
       "    }\n",
       "</style>\n",
       "<table border=\"1\" class=\"dataframe\">\n",
       "  <thead>\n",
       "    <tr style=\"text-align: right;\">\n",
       "      <th></th>\n",
       "      <th>price</th>\n",
       "      <th>volume</th>\n",
       "    </tr>\n",
       "  </thead>\n",
       "  <tbody>\n",
       "    <tr>\n",
       "      <th>price</th>\n",
       "      <td>1.000000</td>\n",
       "      <td>0.679912</td>\n",
       "    </tr>\n",
       "    <tr>\n",
       "      <th>volume</th>\n",
       "      <td>0.679912</td>\n",
       "      <td>1.000000</td>\n",
       "    </tr>\n",
       "  </tbody>\n",
       "</table>\n",
       "</div>"
      ],
      "text/plain": [
       "           price    volume\n",
       "price   1.000000  0.679912\n",
       "volume  0.679912  1.000000"
      ]
     },
     "execution_count": 23,
     "metadata": {},
     "output_type": "execute_result"
    }
   ],
   "source": [
    "cor.corr()"
   ]
  },
  {
   "cell_type": "markdown",
   "id": "34bec3d8",
   "metadata": {},
   "source": [
    "### Як видно з графіка і розрахунків, бачимо певну залежність ціни від розмірів (об'єму) продукції (коефіцієнт кореляції = 0,679912)"
   ]
  },
  {
   "cell_type": "markdown",
   "id": "44981d7e",
   "metadata": {},
   "source": [
    "### Порахуємо, скільки виробів у кожній категорії:"
   ]
  },
  {
   "cell_type": "code",
   "execution_count": 86,
   "id": "c3a065da",
   "metadata": {},
   "outputs": [],
   "source": [
    "cnt2 = res['category'].value_counts()"
   ]
  },
  {
   "cell_type": "code",
   "execution_count": 87,
   "id": "395acaa4",
   "metadata": {},
   "outputs": [
    {
     "data": {
      "text/plain": [
       "Tables & desks                          612\n",
       "Bookcases & shelving units              548\n",
       "Chairs                                  481\n",
       "Sofas & armchairs                       428\n",
       "Cabinets & cupboards                    292\n",
       "Wardrobes                               236\n",
       "Outdoor furniture                       216\n",
       "Beds                                    208\n",
       "TV & media furniture                    190\n",
       "Chests of drawers & drawer units        125\n",
       "Children's furniture                    124\n",
       "Nursery furniture                        97\n",
       "Bar furniture                            47\n",
       "Trolleys                                 28\n",
       "Café furniture                           26\n",
       "Sideboards, buffets & console tables     23\n",
       "Room dividers                            13\n",
       "Name: category, dtype: int64"
      ]
     },
     "execution_count": 87,
     "metadata": {},
     "output_type": "execute_result"
    }
   ],
   "source": [
    "cnt2"
   ]
  },
  {
   "cell_type": "markdown",
   "id": "90c493b7",
   "metadata": {},
   "source": [
    "### Побудуємо pie chart по категоріям"
   ]
  },
  {
   "cell_type": "code",
   "execution_count": 100,
   "id": "c23e34f8",
   "metadata": {},
   "outputs": [],
   "source": [
    "x = np.array(cnt2.index)\n",
    "y = np.array(cnt2)"
   ]
  },
  {
   "cell_type": "code",
   "execution_count": 101,
   "id": "bd14e91e",
   "metadata": {},
   "outputs": [
    {
     "data": {
      "image/png": "[encoded data removed]",
      "text/plain": [
       "<Figure size 432x288 with 1 Axes>"
      ]
     },
     "metadata": {},
     "output_type": "display_data"
    }
   ],
   "source": [
    "plt.pie(y, labels = x)\n",
    "plt.show()"
   ]
  },
  {
   "cell_type": "markdown",
   "id": "64422647",
   "metadata": {},
   "source": [
    "### Як видно з розрахунків та графіка більше 50% усієї продукції складає 4 категорії: ables & desks, Bookcases & shelving units, Chairs та Sofas & armchairs"
   ]
  },
  {
   "cell_type": "markdown",
   "id": "683b09c7",
   "metadata": {},
   "source": [
    "### Подивимося, вироби яких дизайнерів представлені найбільше:"
   ]
  },
  {
   "cell_type": "code",
   "execution_count": 92,
   "id": "a1bf9249",
   "metadata": {},
   "outputs": [],
   "source": [
    "cnt3 = res['designer'].value_counts()"
   ]
  },
  {
   "cell_type": "code",
   "execution_count": 95,
   "id": "1b42dde2",
   "metadata": {},
   "outputs": [
    {
     "data": {
      "text/plain": [
       "IKEA of Sweden                    828\n",
       "Ehlén Johansson                   161\n",
       "Francis Cayouette                 151\n",
       "Unknown designer                  140\n",
       "Ola Wihlborg                      134\n",
       "K Hagberg/M Hagberg               122\n",
       "Jon Karlsson                      120\n",
       "Ehlén Johansson/IKEA of Sweden     75\n",
       "Carina Bengs                       75\n",
       "Henrik Preutz                      70\n",
       "IKEA of Sweden/Ehlén Johansson     70\n",
       "Studio Copenhagen                  64\n",
       "H Preutz/A Fredriksson             60\n",
       "Ebba Strandmark                    57\n",
       "K Malmvall/E Lilja Löwenhielm      55\n",
       "Nike Karlsson                      53\n",
       "Eva Lilja Löwenhielm               46\n",
       "Johan Kroon                        31\n",
       "Tord Björklund                     31\n",
       "Carl Öjerstam                      28\n",
       "Name: designer, dtype: int64"
      ]
     },
     "execution_count": 95,
     "metadata": {},
     "output_type": "execute_result"
    }
   ],
   "source": [
    "cnt3[0:20]"
   ]
  },
  {
   "cell_type": "markdown",
   "id": "71551dfe",
   "metadata": {},
   "source": [
    "### Побудуємо pie chart по дизайнерам"
   ]
  },
  {
   "cell_type": "code",
   "execution_count": 102,
   "id": "23a8b1e3",
   "metadata": {},
   "outputs": [],
   "source": [
    "x = np.array(cnt3.index)\n",
    "y = np.array(cnt3)"
   ]
  },
  {
   "cell_type": "code",
   "execution_count": 103,
   "id": "e3b63e56",
   "metadata": {},
   "outputs": [
    {
     "data": {
      "image/png": "[encoded data removed]",
      "text/plain": [
       "<Figure size 432x288 with 1 Axes>"
      ]
     },
     "metadata": {},
     "output_type": "display_data"
    }
   ],
   "source": [
    "plt.pie(y, labels = x)\n",
    "plt.show()"
   ]
  },
  {
   "cell_type": "markdown",
   "id": "84bd8a2e",
   "metadata": {},
   "source": [
    "### Висновок: дизайн майже чверті усієї продукції був розроблений співробітниками (дизайнерами) компанії IKEA"
   ]
  },
  {
   "cell_type": "markdown",
   "id": "9338e4fe",
   "metadata": {},
   "source": [
    "### Подивимося, скільки товарів продаються онлайн із загального асортименту"
   ]
  },
  {
   "cell_type": "code",
   "execution_count": 111,
   "id": "1c1492cd",
   "metadata": {},
   "outputs": [],
   "source": [
    "cnt4 = res['sellable_online'].value_counts()"
   ]
  },
  {
   "cell_type": "code",
   "execution_count": 112,
   "id": "d8e207c0",
   "metadata": {},
   "outputs": [
    {
     "data": {
      "text/plain": [
       "True     3666\n",
       "False      28\n",
       "Name: sellable_online, dtype: int64"
      ]
     },
     "execution_count": 112,
     "metadata": {},
     "output_type": "execute_result"
    }
   ],
   "source": [
    "cnt4"
   ]
  },
  {
   "cell_type": "markdown",
   "id": "57f1742a",
   "metadata": {},
   "source": [
    "### Висновок: майже весь асортимент IKEA можна купити онлайн"
   ]
  },
  {
   "cell_type": "markdown",
   "id": "2bbe3106",
   "metadata": {},
   "source": [
    "### Вирахуємо середню ціну за категоріями"
   ]
  },
  {
   "cell_type": "code",
   "execution_count": 118,
   "id": "15b349bb",
   "metadata": {},
   "outputs": [
    {
     "data": {
      "text/plain": [
       "category\n",
       "Wardrobes                               2162.141949\n",
       "Sofas & armchairs                       2004.016355\n",
       "Beds                                    1647.432692\n",
       "Tables & desks                          1129.395425\n",
       "Sideboards, buffets & console tables    1068.086957\n",
       "Chairs                                  1048.932640\n",
       "Room dividers                            932.000000\n",
       "Outdoor furniture                        859.826852\n",
       "Cabinets & cupboards                     789.015753\n",
       "Bar furniture                            679.553191\n",
       "Trolleys                                 678.517857\n",
       "TV & media furniture                     659.050526\n",
       "Chests of drawers & drawer units         612.180000\n",
       "Café furniture                           553.884615\n",
       "Bookcases & shelving units               519.416058\n",
       "Nursery furniture                        393.659794\n",
       "Children's furniture                     272.758065\n",
       "Name: price, dtype: float64"
      ]
     },
     "execution_count": 118,
     "metadata": {},
     "output_type": "execute_result"
    }
   ],
   "source": [
    "cnt5 = res.groupby(['category'])['price'].mean()\n",
    "cnt5 = cnt5.sort_values(ascending=False)\n",
    "cnt5"
   ]
  },
  {
   "cell_type": "markdown",
   "id": "cf7ae301",
   "metadata": {},
   "source": [
    "### Побудуємо bar chart середня ціна/категорії"
   ]
  },
  {
   "cell_type": "code",
   "execution_count": 119,
   "id": "369958b5",
   "metadata": {},
   "outputs": [],
   "source": [
    "x5 = np.array(cnt5.index)\n",
    "y5 = np.array(cnt5)"
   ]
  },
  {
   "cell_type": "code",
   "execution_count": 120,
   "id": "9cc41746",
   "metadata": {},
   "outputs": [
    {
     "data": {
      "text/plain": [
       "<BarContainer object of 17 artists>"
      ]
     },
     "execution_count": 120,
     "metadata": {},
     "output_type": "execute_result"
    },
    {
     "data": {
      "image/png": "[encoded data removed]",
      "text/plain": [
       "<Figure size 1152x720 with 1 Axes>"
      ]
     },
     "metadata": {
      "needs_background": "light"
     },
     "output_type": "display_data"
    }
   ],
   "source": [
    "fig, ax = plt.subplots()\n",
    "fig.set_figwidth(16)\n",
    "fig.set_figheight(10) \n",
    "ax.set(xlabel='')\n",
    "ax.barh(x5, y5)"
   ]
  },
  {
   "cell_type": "markdown",
   "id": "955cb44d",
   "metadata": {},
   "source": [
    "### Як видно, є явно виражена залежність категорії та ціни на продукцію"
   ]
  },
  {
   "cell_type": "markdown",
   "id": "43fd50f7",
   "metadata": {},
   "source": [
    "# Task 3 Статистика. Гіпотези"
   ]
  },
  {
   "cell_type": "markdown",
   "id": "274ad19a",
   "metadata": {},
   "source": [
    "### Гіпотези:\n",
    "### Основна гіпотеза Н0 (нульова гіпотеза) - Ціни на вироби дизайнерів IKEA of Sweden знаходяться на середньому рівні\n",
    "### Альтернативна гіпотеза Н1 - Ціни на вироби дизайнерів IKEA of Sweden відрізняються від середніх по всьому асортименту\n"
   ]
  },
  {
   "cell_type": "markdown",
   "id": "1d9b1cf3",
   "metadata": {},
   "source": [
    "Для прийняття нульової гіпотези (або її спростування) використовуватимемо Z-тест.\n",
    "Z-тест підходить для ситуацій, коли сукупність не обов'язково повинна бути розподілена нормально (у нашому випадку експоненційний розподіл),\n",
    "дисперсія генеральної сукупності відома, а розмір вибірки великий (> = 30)"
   ]
  },
  {
   "cell_type": "markdown",
   "id": "46e1f8f9",
   "metadata": {},
   "source": [
    "Для візуалізації збудуємо гістограму генеральної сукупності"
   ]
  },
  {
   "cell_type": "code",
   "execution_count": 70,
   "id": "c0e21691",
   "metadata": {},
   "outputs": [
    {
     "data": {
      "text/plain": [
       "<AxesSubplot:>"
      ]
     },
     "execution_count": 70,
     "metadata": {},
     "output_type": "execute_result"
    },
    {
     "data": {
      "image/png": "[encoded data removed]",
      "text/plain": [
       "<Figure size 432x288 with 1 Axes>"
      ]
     },
     "metadata": {
      "needs_background": "light"
     },
     "output_type": "display_data"
    }
   ],
   "source": [
    "res['price'].hist(bins=60)"
   ]
  },
  {
   "cell_type": "markdown",
   "id": "91b44549",
   "metadata": {},
   "source": [
    "Бачимо експоненційний розподіл. Так само по гістограмі видно \"викиди\", але в даному аналізі ми не будемо їх враховувати (прибирати)"
   ]
  },
  {
   "cell_type": "code",
   "execution_count": null,
   "id": "23f76586",
   "metadata": {},
   "outputs": [],
   "source": [
    "# вибираємо рівень значимості дорівнює 0,05 (5%)"
   ]
  },
  {
   "cell_type": "code",
   "execution_count": 2,
   "id": "67403aa5",
   "metadata": {},
   "outputs": [],
   "source": [
    "# Обчислимо середню генеральної сукупність та стандартне відхилення:"
   ]
  },
  {
   "cell_type": "code",
   "execution_count": 232,
   "id": "56d609ff",
   "metadata": {},
   "outputs": [],
   "source": [
    "mean = res['price'].mean()\n",
    "std = np.std(res['price'])"
   ]
  },
  {
   "cell_type": "code",
   "execution_count": 243,
   "id": "4085b8a0",
   "metadata": {},
   "outputs": [
    {
     "name": "stdout",
     "output_type": "stream",
     "text": [
      "Середнє генеральної сукупності: 1078.2084190579315\n",
      "Стандартне відхилення: 1374.466415978972\n"
     ]
    }
   ],
   "source": [
    "print('Середнє генеральної сукупності:', mean)\n",
    "print('Стандартне відхилення:', std)"
   ]
  },
  {
   "cell_type": "code",
   "execution_count": 12,
   "id": "cf54bd1c",
   "metadata": {},
   "outputs": [],
   "source": [
    "# Обчислимо середнє для нашої вибірки та стандартне відхилення:"
   ]
  },
  {
   "cell_type": "code",
   "execution_count": 238,
   "id": "786904bf",
   "metadata": {},
   "outputs": [],
   "source": [
    "sample_mean = res.groupby(['designer'])['price'].mean()\n",
    "sample_mean = sample_mean.loc['IKEA of Sweden']"
   ]
  },
  {
   "cell_type": "code",
   "execution_count": 239,
   "id": "2e5c255f",
   "metadata": {},
   "outputs": [
    {
     "name": "stdout",
     "output_type": "stream",
     "text": [
      "Середнє по виборці: 522.473188405797\n"
     ]
    }
   ],
   "source": [
    "print('Середнє по виборці:', sample_mean)"
   ]
  },
  {
   "cell_type": "code",
   "execution_count": 240,
   "id": "703b057d",
   "metadata": {},
   "outputs": [],
   "source": [
    "sample = res[res.designer == 'IKEA of Sweden']\n",
    "sample = sample['price']\n",
    "se = std/np.sqrt(len(sample))"
   ]
  },
  {
   "cell_type": "code",
   "execution_count": 242,
   "id": "d948524d",
   "metadata": {},
   "outputs": [
    {
     "name": "stdout",
     "output_type": "stream",
     "text": [
      "Стандартне відхилення по виборці: 47.76600989483049\n"
     ]
    }
   ],
   "source": [
    "print('Стандартне відхилення по виборці:', se)"
   ]
  },
  {
   "cell_type": "code",
   "execution_count": 61,
   "id": "41e4925b",
   "metadata": {},
   "outputs": [],
   "source": [
    "Z = (sample_mean-mean) / se\n",
    "# Обчислити значення Z за формулою (Z-число стандартних відхилень від середнього значення точки даних)"
   ]
  },
  {
   "cell_type": "code",
   "execution_count": 62,
   "id": "d95242ad",
   "metadata": {},
   "outputs": [
    {
     "data": {
      "text/plain": [
       "-11.634533256508814"
      ]
     },
     "execution_count": 62,
     "metadata": {},
     "output_type": "execute_result"
    }
   ],
   "source": [
    "Z"
   ]
  },
  {
   "cell_type": "code",
   "execution_count": 64,
   "id": "c29332af",
   "metadata": {},
   "outputs": [],
   "source": [
    "P = 2 * stats.norm.sf (abs (Z)) # Використовуємо вбудований метод статистики для розрахунку значення P (значення ймовірності)"
   ]
  },
  {
   "cell_type": "code",
   "execution_count": 65,
   "id": "9a3bc764",
   "metadata": {},
   "outputs": [
    {
     "data": {
      "text/plain": [
       "2.750907721745174e-31"
      ]
     },
     "execution_count": 65,
     "metadata": {},
     "output_type": "execute_result"
    }
   ],
   "source": [
    "P"
   ]
  },
  {
   "cell_type": "markdown",
   "id": "d9305f44",
   "metadata": {},
   "source": [
    "### Як бачимо, Р значно менше обраного нами рівня значимості (0,05). В даному випадку ми відхиляємо нульову гіпотезу та приймаємо за основу альтернативну. Так само, ми бачимо негативний Z, це говорить про те, що середня ціна виробів дизайнерів IKEA of Sweden менша за середню ціну всього асортименту"
   ]
  },
  {
   "cell_type": "markdown",
   "id": "a2bd9a95",
   "metadata": {},
   "source": [
    "# Task 4. Машинне навчання"
   ]
  },
  {
   "cell_type": "markdown",
   "id": "1ed66ed0",
   "metadata": {},
   "source": [
    "### Грунтуючись на аналізі з Task 2 можемо стверджувати про залежність габаритів виробів та його ціни. Тому Формуємо Data Frame з тими стовпцями, які братимуть участь у навчанні."
   ]
  },
  {
   "cell_type": "code",
   "execution_count": 187,
   "id": "f26930fa",
   "metadata": {},
   "outputs": [],
   "source": [
    "res_learn = res[['price', 'depth', 'height', 'width']]"
   ]
  },
  {
   "cell_type": "code",
   "execution_count": 188,
   "id": "326a3b45",
   "metadata": {},
   "outputs": [
    {
     "data": {
      "text/html": [
       "<div>\n",
       "<style scoped>\n",
       "    .dataframe tbody tr th:only-of-type {\n",
       "        vertical-align: middle;\n",
       "    }\n",
       "\n",
       "    .dataframe tbody tr th {\n",
       "        vertical-align: top;\n",
       "    }\n",
       "\n",
       "    .dataframe thead th {\n",
       "        text-align: right;\n",
       "    }\n",
       "</style>\n",
       "<table border=\"1\" class=\"dataframe\">\n",
       "  <thead>\n",
       "    <tr style=\"text-align: right;\">\n",
       "      <th></th>\n",
       "      <th>price</th>\n",
       "      <th>depth</th>\n",
       "      <th>height</th>\n",
       "      <th>width</th>\n",
       "    </tr>\n",
       "  </thead>\n",
       "  <tbody>\n",
       "    <tr>\n",
       "      <th>0</th>\n",
       "      <td>265.0</td>\n",
       "      <td>54.4</td>\n",
       "      <td>99.0</td>\n",
       "      <td>51.0</td>\n",
       "    </tr>\n",
       "    <tr>\n",
       "      <th>1</th>\n",
       "      <td>995.0</td>\n",
       "      <td>54.4</td>\n",
       "      <td>105.0</td>\n",
       "      <td>80.0</td>\n",
       "    </tr>\n",
       "    <tr>\n",
       "      <th>2</th>\n",
       "      <td>2095.0</td>\n",
       "      <td>54.4</td>\n",
       "      <td>101.7</td>\n",
       "      <td>104.5</td>\n",
       "    </tr>\n",
       "    <tr>\n",
       "      <th>3</th>\n",
       "      <td>69.0</td>\n",
       "      <td>50.0</td>\n",
       "      <td>100.0</td>\n",
       "      <td>60.0</td>\n",
       "    </tr>\n",
       "    <tr>\n",
       "      <th>4</th>\n",
       "      <td>225.0</td>\n",
       "      <td>60.0</td>\n",
       "      <td>43.0</td>\n",
       "      <td>74.0</td>\n",
       "    </tr>\n",
       "    <tr>\n",
       "      <th>...</th>\n",
       "      <td>...</td>\n",
       "      <td>...</td>\n",
       "      <td>...</td>\n",
       "      <td>...</td>\n",
       "    </tr>\n",
       "    <tr>\n",
       "      <th>3689</th>\n",
       "      <td>750.0</td>\n",
       "      <td>50.0</td>\n",
       "      <td>101.7</td>\n",
       "      <td>91.0</td>\n",
       "    </tr>\n",
       "    <tr>\n",
       "      <th>3690</th>\n",
       "      <td>1572.0</td>\n",
       "      <td>50.0</td>\n",
       "      <td>101.7</td>\n",
       "      <td>135.0</td>\n",
       "    </tr>\n",
       "    <tr>\n",
       "      <th>3691</th>\n",
       "      <td>924.0</td>\n",
       "      <td>50.0</td>\n",
       "      <td>101.7</td>\n",
       "      <td>175.0</td>\n",
       "    </tr>\n",
       "    <tr>\n",
       "      <th>3692</th>\n",
       "      <td>2745.0</td>\n",
       "      <td>50.0</td>\n",
       "      <td>101.7</td>\n",
       "      <td>178.0</td>\n",
       "    </tr>\n",
       "    <tr>\n",
       "      <th>3693</th>\n",
       "      <td>1231.0</td>\n",
       "      <td>50.0</td>\n",
       "      <td>101.7</td>\n",
       "      <td>175.0</td>\n",
       "    </tr>\n",
       "  </tbody>\n",
       "</table>\n",
       "<p>3694 rows × 4 columns</p>\n",
       "</div>"
      ],
      "text/plain": [
       "       price  depth  height  width\n",
       "0      265.0   54.4    99.0   51.0\n",
       "1      995.0   54.4   105.0   80.0\n",
       "2     2095.0   54.4   101.7  104.5\n",
       "3       69.0   50.0   100.0   60.0\n",
       "4      225.0   60.0    43.0   74.0\n",
       "...      ...    ...     ...    ...\n",
       "3689   750.0   50.0   101.7   91.0\n",
       "3690  1572.0   50.0   101.7  135.0\n",
       "3691   924.0   50.0   101.7  175.0\n",
       "3692  2745.0   50.0   101.7  178.0\n",
       "3693  1231.0   50.0   101.7  175.0\n",
       "\n",
       "[3694 rows x 4 columns]"
      ]
     },
     "execution_count": 188,
     "metadata": {},
     "output_type": "execute_result"
    }
   ],
   "source": [
    "res_learn"
   ]
  },
  {
   "cell_type": "code",
   "execution_count": 36,
   "id": "84b0b306",
   "metadata": {},
   "outputs": [
    {
     "name": "stdout",
     "output_type": "stream",
     "text": [
      "<class 'pandas.core.frame.DataFrame'>\n",
      "RangeIndex: 3694 entries, 0 to 3693\n",
      "Data columns (total 4 columns):\n",
      " #   Column  Non-Null Count  Dtype  \n",
      "---  ------  --------------  -----  \n",
      " 0   price   3694 non-null   float64\n",
      " 1   depth   3694 non-null   float64\n",
      " 2   height  3694 non-null   float64\n",
      " 3   width   3694 non-null   float64\n",
      "dtypes: float64(4)\n",
      "memory usage: 115.6 KB\n"
     ]
    }
   ],
   "source": [
    "res_learn.info()"
   ]
  },
  {
   "cell_type": "code",
   "execution_count": 189,
   "id": "3dff5939",
   "metadata": {},
   "outputs": [],
   "source": [
    "X = res_learn[['depth', 'height', 'width']] # ознаки\n",
    "y = res_learn['price'] # цільова змінна"
   ]
  },
  {
   "cell_type": "markdown",
   "id": "1cc6ba9a",
   "metadata": {},
   "source": [
    "### розділимо дані за допомогою Scikit-Learn train_test_split:"
   ]
  },
  {
   "cell_type": "code",
   "execution_count": 198,
   "id": "0134a959",
   "metadata": {},
   "outputs": [],
   "source": [
    "from sklearn.model_selection import train_test_split\n",
    "X_train, X_test, y_train, y_test = train_test_split(X, y, test_size=0.7, random_state=0)"
   ]
  },
  {
   "cell_type": "markdown",
   "id": "9681ce74",
   "metadata": {},
   "source": [
    "### Будемо користуватися класом лінійної регресії, так як у дослідницькому аналізі, який проводився вище, ми побачили лінійну залежність ціни від розмірів виробу"
   ]
  },
  {
   "cell_type": "code",
   "execution_count": 199,
   "id": "fa82bf8e",
   "metadata": {},
   "outputs": [],
   "source": [
    "from sklearn.linear_model import LinearRegression\n",
    "lr = LinearRegression()"
   ]
  },
  {
   "cell_type": "code",
   "execution_count": 200,
   "id": "cc3a6aac",
   "metadata": {},
   "outputs": [],
   "source": [
    "lr = lr.fit(X_train,y_train)"
   ]
  },
  {
   "cell_type": "code",
   "execution_count": 201,
   "id": "ab925cda",
   "metadata": {},
   "outputs": [
    {
     "name": "stdout",
     "output_type": "stream",
     "text": [
      "Правильность на тестовом наборе: 0.49\n"
     ]
    }
   ],
   "source": [
    "print(\"Правильность на тестовом наборе: {:.2f}\".format(lr.score(X_test, y_test)))"
   ]
  },
  {
   "cell_type": "markdown",
   "id": "8073057e",
   "metadata": {},
   "source": [
    "### Як бачимо, модель передбачає ціну, але не дуже точно. Гадаю, це пов'язано з тим, що при заповненні пустих значень в колонках з розмірами брались середні по колонці та враховувались лише розміри товарів"
   ]
  },
  {
   "cell_type": "markdown",
   "id": "a55e9ffb",
   "metadata": {},
   "source": [
    "### Заповнимо пусті значення розмірів середніми значеннями по категоріям:"
   ]
  },
  {
   "cell_type": "code",
   "execution_count": 202,
   "id": "839f0cfc",
   "metadata": {},
   "outputs": [],
   "source": [
    "res1 = pd.read_csv('ikea.csv')"
   ]
  },
  {
   "cell_type": "code",
   "execution_count": 122,
   "id": "0ead501f",
   "metadata": {
    "scrolled": false
   },
   "outputs": [
    {
     "data": {
      "text/html": [
       "<div>\n",
       "<style scoped>\n",
       "    .dataframe tbody tr th:only-of-type {\n",
       "        vertical-align: middle;\n",
       "    }\n",
       "\n",
       "    .dataframe tbody tr th {\n",
       "        vertical-align: top;\n",
       "    }\n",
       "\n",
       "    .dataframe thead th {\n",
       "        text-align: right;\n",
       "    }\n",
       "</style>\n",
       "<table border=\"1\" class=\"dataframe\">\n",
       "  <thead>\n",
       "    <tr style=\"text-align: right;\">\n",
       "      <th></th>\n",
       "      <th>Unnamed: 0</th>\n",
       "      <th>item_id</th>\n",
       "      <th>name</th>\n",
       "      <th>category</th>\n",
       "      <th>price</th>\n",
       "      <th>old_price</th>\n",
       "      <th>sellable_online</th>\n",
       "      <th>link</th>\n",
       "      <th>other_colors</th>\n",
       "      <th>short_description</th>\n",
       "      <th>designer</th>\n",
       "      <th>depth</th>\n",
       "      <th>height</th>\n",
       "      <th>width</th>\n",
       "    </tr>\n",
       "  </thead>\n",
       "  <tbody>\n",
       "    <tr>\n",
       "      <th>0</th>\n",
       "      <td>0</td>\n",
       "      <td>90420332</td>\n",
       "      <td>FREKVENS</td>\n",
       "      <td>Bar furniture</td>\n",
       "      <td>265.0</td>\n",
       "      <td>No old price</td>\n",
       "      <td>True</td>\n",
       "      <td>https://www.ikea.com/sa/en/p/frekvens-bar-tabl...</td>\n",
       "      <td>No</td>\n",
       "      <td>Bar table, in/outdoor,          51x51 cm</td>\n",
       "      <td>Nicholai Wiig Hansen</td>\n",
       "      <td>NaN</td>\n",
       "      <td>99.0</td>\n",
       "      <td>51.0</td>\n",
       "    </tr>\n",
       "    <tr>\n",
       "      <th>1</th>\n",
       "      <td>1</td>\n",
       "      <td>368814</td>\n",
       "      <td>NORDVIKEN</td>\n",
       "      <td>Bar furniture</td>\n",
       "      <td>995.0</td>\n",
       "      <td>No old price</td>\n",
       "      <td>False</td>\n",
       "      <td>https://www.ikea.com/sa/en/p/nordviken-bar-tab...</td>\n",
       "      <td>No</td>\n",
       "      <td>Bar table,          140x80 cm</td>\n",
       "      <td>Francis Cayouette</td>\n",
       "      <td>NaN</td>\n",
       "      <td>105.0</td>\n",
       "      <td>80.0</td>\n",
       "    </tr>\n",
       "    <tr>\n",
       "      <th>2</th>\n",
       "      <td>2</td>\n",
       "      <td>9333523</td>\n",
       "      <td>NORDVIKEN / NORDVIKEN</td>\n",
       "      <td>Bar furniture</td>\n",
       "      <td>2095.0</td>\n",
       "      <td>No old price</td>\n",
       "      <td>False</td>\n",
       "      <td>https://www.ikea.com/sa/en/p/nordviken-nordvik...</td>\n",
       "      <td>No</td>\n",
       "      <td>Bar table and 4 bar stools</td>\n",
       "      <td>Francis Cayouette</td>\n",
       "      <td>NaN</td>\n",
       "      <td>NaN</td>\n",
       "      <td>NaN</td>\n",
       "    </tr>\n",
       "    <tr>\n",
       "      <th>3</th>\n",
       "      <td>3</td>\n",
       "      <td>80155205</td>\n",
       "      <td>STIG</td>\n",
       "      <td>Bar furniture</td>\n",
       "      <td>69.0</td>\n",
       "      <td>No old price</td>\n",
       "      <td>True</td>\n",
       "      <td>https://www.ikea.com/sa/en/p/stig-bar-stool-wi...</td>\n",
       "      <td>Yes</td>\n",
       "      <td>Bar stool with backrest,          74 cm</td>\n",
       "      <td>Henrik Preutz</td>\n",
       "      <td>50.0</td>\n",
       "      <td>100.0</td>\n",
       "      <td>60.0</td>\n",
       "    </tr>\n",
       "    <tr>\n",
       "      <th>4</th>\n",
       "      <td>4</td>\n",
       "      <td>30180504</td>\n",
       "      <td>NORBERG</td>\n",
       "      <td>Bar furniture</td>\n",
       "      <td>225.0</td>\n",
       "      <td>No old price</td>\n",
       "      <td>True</td>\n",
       "      <td>https://www.ikea.com/sa/en/p/norberg-wall-moun...</td>\n",
       "      <td>No</td>\n",
       "      <td>Wall-mounted drop-leaf table,         ...</td>\n",
       "      <td>Marcus Arvonen</td>\n",
       "      <td>60.0</td>\n",
       "      <td>43.0</td>\n",
       "      <td>74.0</td>\n",
       "    </tr>\n",
       "  </tbody>\n",
       "</table>\n",
       "</div>"
      ],
      "text/plain": [
       "   Unnamed: 0   item_id                   name       category   price  \\\n",
       "0           0  90420332               FREKVENS  Bar furniture   265.0   \n",
       "1           1    368814              NORDVIKEN  Bar furniture   995.0   \n",
       "2           2   9333523  NORDVIKEN / NORDVIKEN  Bar furniture  2095.0   \n",
       "3           3  80155205                   STIG  Bar furniture    69.0   \n",
       "4           4  30180504                NORBERG  Bar furniture   225.0   \n",
       "\n",
       "      old_price  sellable_online  \\\n",
       "0  No old price             True   \n",
       "1  No old price            False   \n",
       "2  No old price            False   \n",
       "3  No old price             True   \n",
       "4  No old price             True   \n",
       "\n",
       "                                                link other_colors  \\\n",
       "0  https://www.ikea.com/sa/en/p/frekvens-bar-tabl...           No   \n",
       "1  https://www.ikea.com/sa/en/p/nordviken-bar-tab...           No   \n",
       "2  https://www.ikea.com/sa/en/p/nordviken-nordvik...           No   \n",
       "3  https://www.ikea.com/sa/en/p/stig-bar-stool-wi...          Yes   \n",
       "4  https://www.ikea.com/sa/en/p/norberg-wall-moun...           No   \n",
       "\n",
       "                                   short_description              designer  \\\n",
       "0           Bar table, in/outdoor,          51x51 cm  Nicholai Wiig Hansen   \n",
       "1                      Bar table,          140x80 cm     Francis Cayouette   \n",
       "2                         Bar table and 4 bar stools     Francis Cayouette   \n",
       "3            Bar stool with backrest,          74 cm         Henrik Preutz   \n",
       "4          Wall-mounted drop-leaf table,         ...        Marcus Arvonen   \n",
       "\n",
       "   depth  height  width  \n",
       "0    NaN    99.0   51.0  \n",
       "1    NaN   105.0   80.0  \n",
       "2    NaN     NaN    NaN  \n",
       "3   50.0   100.0   60.0  \n",
       "4   60.0    43.0   74.0  "
      ]
     },
     "execution_count": 122,
     "metadata": {},
     "output_type": "execute_result"
    }
   ],
   "source": [
    "res1.head(5)"
   ]
  },
  {
   "cell_type": "code",
   "execution_count": 203,
   "id": "9d817291",
   "metadata": {},
   "outputs": [],
   "source": [
    "mean_d = res1.groupby(['category'])['depth'].median()\n",
    "mean_h = res1.groupby(['category'])['height'].median()\n",
    "mean_w = res1.groupby(['category'])['width'].median()"
   ]
  },
  {
   "cell_type": "code",
   "execution_count": 204,
   "id": "95d1b08a",
   "metadata": {},
   "outputs": [],
   "source": [
    "res1 = res1.set_index(['category']) #проіндексуємо колонку category"
   ]
  },
  {
   "cell_type": "code",
   "execution_count": 205,
   "id": "298676d4",
   "metadata": {},
   "outputs": [],
   "source": [
    "res1['depth'].fillna(mean_d, inplace = True)\n",
    "res1['height'].fillna(mean_h, inplace = True)\n",
    "res1['width'].fillna(mean_w, inplace = True)"
   ]
  },
  {
   "cell_type": "markdown",
   "id": "f4652e39",
   "metadata": {},
   "source": [
    "### Спробуємо навчити з новими даними та новим методом"
   ]
  },
  {
   "cell_type": "code",
   "execution_count": 206,
   "id": "719283d5",
   "metadata": {},
   "outputs": [],
   "source": [
    "res_learn1 = res1[['price', 'depth', 'height', 'width']]"
   ]
  },
  {
   "cell_type": "code",
   "execution_count": 150,
   "id": "50a044af",
   "metadata": {},
   "outputs": [
    {
     "data": {
      "text/html": [
       "<div>\n",
       "<style scoped>\n",
       "    .dataframe tbody tr th:only-of-type {\n",
       "        vertical-align: middle;\n",
       "    }\n",
       "\n",
       "    .dataframe tbody tr th {\n",
       "        vertical-align: top;\n",
       "    }\n",
       "\n",
       "    .dataframe thead th {\n",
       "        text-align: right;\n",
       "    }\n",
       "</style>\n",
       "<table border=\"1\" class=\"dataframe\">\n",
       "  <thead>\n",
       "    <tr style=\"text-align: right;\">\n",
       "      <th></th>\n",
       "      <th>price</th>\n",
       "      <th>depth</th>\n",
       "      <th>height</th>\n",
       "      <th>width</th>\n",
       "    </tr>\n",
       "    <tr>\n",
       "      <th>category</th>\n",
       "      <th></th>\n",
       "      <th></th>\n",
       "      <th></th>\n",
       "      <th></th>\n",
       "    </tr>\n",
       "  </thead>\n",
       "  <tbody>\n",
       "    <tr>\n",
       "      <th>Bar furniture</th>\n",
       "      <td>265.0</td>\n",
       "      <td>47.0</td>\n",
       "      <td>99.0</td>\n",
       "      <td>51.0</td>\n",
       "    </tr>\n",
       "    <tr>\n",
       "      <th>Bar furniture</th>\n",
       "      <td>995.0</td>\n",
       "      <td>47.0</td>\n",
       "      <td>105.0</td>\n",
       "      <td>80.0</td>\n",
       "    </tr>\n",
       "    <tr>\n",
       "      <th>Bar furniture</th>\n",
       "      <td>2095.0</td>\n",
       "      <td>47.0</td>\n",
       "      <td>102.0</td>\n",
       "      <td>48.0</td>\n",
       "    </tr>\n",
       "    <tr>\n",
       "      <th>Bar furniture</th>\n",
       "      <td>69.0</td>\n",
       "      <td>50.0</td>\n",
       "      <td>100.0</td>\n",
       "      <td>60.0</td>\n",
       "    </tr>\n",
       "    <tr>\n",
       "      <th>Bar furniture</th>\n",
       "      <td>225.0</td>\n",
       "      <td>60.0</td>\n",
       "      <td>43.0</td>\n",
       "      <td>74.0</td>\n",
       "    </tr>\n",
       "    <tr>\n",
       "      <th>...</th>\n",
       "      <td>...</td>\n",
       "      <td>...</td>\n",
       "      <td>...</td>\n",
       "      <td>...</td>\n",
       "    </tr>\n",
       "    <tr>\n",
       "      <th>Wardrobes</th>\n",
       "      <td>750.0</td>\n",
       "      <td>50.0</td>\n",
       "      <td>236.0</td>\n",
       "      <td>91.0</td>\n",
       "    </tr>\n",
       "    <tr>\n",
       "      <th>Wardrobes</th>\n",
       "      <td>1572.0</td>\n",
       "      <td>50.0</td>\n",
       "      <td>236.0</td>\n",
       "      <td>135.0</td>\n",
       "    </tr>\n",
       "    <tr>\n",
       "      <th>Wardrobes</th>\n",
       "      <td>924.0</td>\n",
       "      <td>50.0</td>\n",
       "      <td>236.0</td>\n",
       "      <td>175.0</td>\n",
       "    </tr>\n",
       "    <tr>\n",
       "      <th>Wardrobes</th>\n",
       "      <td>2745.0</td>\n",
       "      <td>50.0</td>\n",
       "      <td>236.0</td>\n",
       "      <td>178.0</td>\n",
       "    </tr>\n",
       "    <tr>\n",
       "      <th>Wardrobes</th>\n",
       "      <td>1231.0</td>\n",
       "      <td>50.0</td>\n",
       "      <td>236.0</td>\n",
       "      <td>175.0</td>\n",
       "    </tr>\n",
       "  </tbody>\n",
       "</table>\n",
       "<p>3694 rows × 4 columns</p>\n",
       "</div>"
      ],
      "text/plain": [
       "                price  depth  height  width\n",
       "category                                   \n",
       "Bar furniture   265.0   47.0    99.0   51.0\n",
       "Bar furniture   995.0   47.0   105.0   80.0\n",
       "Bar furniture  2095.0   47.0   102.0   48.0\n",
       "Bar furniture    69.0   50.0   100.0   60.0\n",
       "Bar furniture   225.0   60.0    43.0   74.0\n",
       "...               ...    ...     ...    ...\n",
       "Wardrobes       750.0   50.0   236.0   91.0\n",
       "Wardrobes      1572.0   50.0   236.0  135.0\n",
       "Wardrobes       924.0   50.0   236.0  175.0\n",
       "Wardrobes      2745.0   50.0   236.0  178.0\n",
       "Wardrobes      1231.0   50.0   236.0  175.0\n",
       "\n",
       "[3694 rows x 4 columns]"
      ]
     },
     "execution_count": 150,
     "metadata": {},
     "output_type": "execute_result"
    }
   ],
   "source": [
    "res_learn1"
   ]
  },
  {
   "cell_type": "code",
   "execution_count": 216,
   "id": "88016271",
   "metadata": {},
   "outputs": [],
   "source": [
    "X = res_learn1[['depth', 'height', 'width']] # ознаки\n",
    "y = res_learn1['price'] # цільова змінна"
   ]
  },
  {
   "cell_type": "markdown",
   "id": "e5999ecd",
   "metadata": {},
   "source": [
    "#### Для навчання використаємо RandomForestRegressor"
   ]
  },
  {
   "cell_type": "code",
   "execution_count": 217,
   "id": "768832bf",
   "metadata": {},
   "outputs": [],
   "source": [
    "from sklearn.ensemble import RandomForestRegressor\n",
    "from sklearn.pipeline import Pipeline\n",
    "from sklearn.preprocessing import StandardScaler"
   ]
  },
  {
   "cell_type": "code",
   "execution_count": null,
   "id": "335aed33",
   "metadata": {},
   "outputs": [],
   "source": [
    "X_train, X_test, y_train, y_test = train_test_split(X, y,train_size=0.9, random_state=0)"
   ]
  },
  {
   "cell_type": "code",
   "execution_count": 222,
   "id": "075666b5",
   "metadata": {},
   "outputs": [],
   "source": [
    "lr = Pipeline([('scaler', StandardScaler()), ('rf', RandomForestRegressor())])\n",
    "lr = lr.fit(X_train, y_train)"
   ]
  },
  {
   "cell_type": "code",
   "execution_count": 244,
   "id": "c16d5e86",
   "metadata": {},
   "outputs": [
    {
     "name": "stdout",
     "output_type": "stream",
     "text": [
      "Правильність на тестовому наборі: 0.83\n"
     ]
    }
   ],
   "source": [
    "print(\"Правильність на тестовому наборі: {:.2f}\".format(lr.score(X_test, y_test)))"
   ]
  },
  {
   "cell_type": "markdown",
   "id": "658a9ada",
   "metadata": {},
   "source": [
    "### Цей метод навчання дав значно кращі результати. Отже можна брати його за основу"
   ]
  }
 ],
 "metadata": {
  "kernelspec": {
   "display_name": "Python 3 (ipykernel)",
   "language": "python",
   "name": "python3"
  },
  "language_info": {
   "codemirror_mode": {
    "name": "ipython",
    "version": 3
   },
   "file_extension": ".py",
   "mimetype": "text/x-python",
   "name": "python",
   "nbconvert_exporter": "python",
   "pygments_lexer": "ipython3",
   "version": "3.9.12"
  }
 },
 "nbformat": 4,
 "nbformat_minor": 5
}
